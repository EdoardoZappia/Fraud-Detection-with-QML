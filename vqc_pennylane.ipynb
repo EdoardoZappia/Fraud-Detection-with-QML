{
 "cells": [
  {
   "cell_type": "markdown",
   "metadata": {},
   "source": [
    "## VARIATIONAL QUANTUM CLASSIFIER WITH PENNYLANE ##"
   ]
  },
  {
   "cell_type": "code",
   "execution_count": 5,
   "metadata": {},
   "outputs": [],
   "source": [
    "import pennylane as qml\n",
    "from pennylane import numpy as np\n",
    "from pennylane.optimize import NesterovMomentumOptimizer\n",
    "import pandas as pd\n",
    "from sklearn.preprocessing import LabelEncoder, StandardScaler"
   ]
  },
  {
   "cell_type": "code",
   "execution_count": 2,
   "metadata": {},
   "outputs": [
    {
     "name": "stdout",
     "output_type": "stream",
     "text": [
      "Dataset imported successfully.\n"
     ]
    }
   ],
   "source": [
    "file_path = \"dataset/dataset.csv\"\n",
    "try:\n",
    "    data = pd.read_csv(file_path)\n",
    "    print(\"Dataset imported successfully.\")\n",
    "except FileNotFoundError:\n",
    "    print(\"File not found. Please check the file path.\")\n",
    "    exit()"
   ]
  },
  {
   "cell_type": "code",
   "execution_count": 3,
   "metadata": {},
   "outputs": [
    {
     "name": "stdout",
     "output_type": "stream",
     "text": [
      "   age gender             category  amount  fraud\n",
      "0  '4'    'M'  'es_transportation'    4.55      0\n",
      "1  '2'    'M'  'es_transportation'   39.68      0\n",
      "2  '4'    'F'  'es_transportation'   26.89      0\n",
      "3  '3'    'M'  'es_transportation'   17.25      0\n",
      "4  '5'    'M'  'es_transportation'   35.72      0\n"
     ]
    }
   ],
   "source": [
    "data.drop(columns=['step'], inplace=True)\n",
    "data.drop(columns=['zipcodeOri'], inplace=True)\n",
    "data.drop(columns=['zipMerchant'], inplace=True)\n",
    "data.drop(columns=['customer'], inplace=True)\n",
    "data.drop(columns=['merchant'], inplace=True)\n",
    "\n",
    "print(data.head())"
   ]
  },
  {
   "cell_type": "code",
   "execution_count": 8,
   "metadata": {},
   "outputs": [
    {
     "name": "stdout",
     "output_type": "stream",
     "text": [
      "   age  gender  category  amount  fraud\n",
      "0    4       2        12    4.55      0\n",
      "1    2       2        12   39.68      0\n",
      "2    4       1        12   26.89      0\n",
      "3    3       2        12   17.25      0\n",
      "4    5       2        12   35.72      0\n"
     ]
    }
   ],
   "source": [
    "encoder = LabelEncoder()\n",
    "\n",
    "encoded_age = encoder.fit_transform(data['age'])\n",
    "data['age'] = encoded_age\n",
    "encoded_gender = encoder.fit_transform(data['gender'])\n",
    "data['gender'] = encoded_gender\n",
    "encoded_category = encoder.fit_transform(data['category'])\n",
    "data['category'] = encoded_category\n",
    "\n",
    "print(data.head())"
   ]
  },
  {
   "cell_type": "code",
   "execution_count": 21,
   "metadata": {},
   "outputs": [
    {
     "name": "stdout",
     "output_type": "stream",
     "text": [
      "First X sample (original)  : age          4\n",
      "gender       2\n",
      "category    12\n",
      "Name: 0, dtype: int64\n",
      "First X sample (padded)    : [ 4.   2.  12.   0.1  0.1  0.1  0.1]\n",
      "First X sample (normalized): [0.31230944 0.15615472 0.93692832 0.00780774 0.00780774 0.00780774\n",
      " 0.00780774]\n"
     ]
    },
    {
     "ename": "NameError",
     "evalue": "name 'get_angles' is not defined",
     "output_type": "error",
     "traceback": [
      "\u001b[0;31m---------------------------------------------------------------------------\u001b[0m",
      "\u001b[0;31mNameError\u001b[0m                                 Traceback (most recent call last)",
      "Cell \u001b[0;32mIn[21], line 16\u001b[0m\n\u001b[1;32m     13\u001b[0m \u001b[38;5;28mprint\u001b[39m(\u001b[38;5;124mf\u001b[39m\u001b[38;5;124m\"\u001b[39m\u001b[38;5;124mFirst X sample (normalized): \u001b[39m\u001b[38;5;132;01m{\u001b[39;00mX_norm[\u001b[38;5;241m0\u001b[39m]\u001b[38;5;132;01m}\u001b[39;00m\u001b[38;5;124m\"\u001b[39m)\n\u001b[1;32m     15\u001b[0m \u001b[38;5;66;03m# the angles for state preparation are the features\u001b[39;00m\n\u001b[0;32m---> 16\u001b[0m features \u001b[38;5;241m=\u001b[39m np\u001b[38;5;241m.\u001b[39marray([get_angles(x) \u001b[38;5;28;01mfor\u001b[39;00m x \u001b[38;5;129;01min\u001b[39;00m X_norm], requires_grad\u001b[38;5;241m=\u001b[39m\u001b[38;5;28;01mFalse\u001b[39;00m)\n\u001b[1;32m     17\u001b[0m \u001b[38;5;28mprint\u001b[39m(\u001b[38;5;124mf\u001b[39m\u001b[38;5;124m\"\u001b[39m\u001b[38;5;124mFirst features sample      : \u001b[39m\u001b[38;5;132;01m{\u001b[39;00mfeatures[\u001b[38;5;241m0\u001b[39m]\u001b[38;5;132;01m}\u001b[39;00m\u001b[38;5;124m\"\u001b[39m)\n\u001b[1;32m     19\u001b[0m Y \u001b[38;5;241m=\u001b[39m data[:, \u001b[38;5;241m-\u001b[39m\u001b[38;5;241m1\u001b[39m]\n",
      "Cell \u001b[0;32mIn[21], line 16\u001b[0m, in \u001b[0;36m<listcomp>\u001b[0;34m(.0)\u001b[0m\n\u001b[1;32m     13\u001b[0m \u001b[38;5;28mprint\u001b[39m(\u001b[38;5;124mf\u001b[39m\u001b[38;5;124m\"\u001b[39m\u001b[38;5;124mFirst X sample (normalized): \u001b[39m\u001b[38;5;132;01m{\u001b[39;00mX_norm[\u001b[38;5;241m0\u001b[39m]\u001b[38;5;132;01m}\u001b[39;00m\u001b[38;5;124m\"\u001b[39m)\n\u001b[1;32m     15\u001b[0m \u001b[38;5;66;03m# the angles for state preparation are the features\u001b[39;00m\n\u001b[0;32m---> 16\u001b[0m features \u001b[38;5;241m=\u001b[39m np\u001b[38;5;241m.\u001b[39marray([\u001b[43mget_angles\u001b[49m(x) \u001b[38;5;28;01mfor\u001b[39;00m x \u001b[38;5;129;01min\u001b[39;00m X_norm], requires_grad\u001b[38;5;241m=\u001b[39m\u001b[38;5;28;01mFalse\u001b[39;00m)\n\u001b[1;32m     17\u001b[0m \u001b[38;5;28mprint\u001b[39m(\u001b[38;5;124mf\u001b[39m\u001b[38;5;124m\"\u001b[39m\u001b[38;5;124mFirst features sample      : \u001b[39m\u001b[38;5;132;01m{\u001b[39;00mfeatures[\u001b[38;5;241m0\u001b[39m]\u001b[38;5;132;01m}\u001b[39;00m\u001b[38;5;124m\"\u001b[39m)\n\u001b[1;32m     19\u001b[0m Y \u001b[38;5;241m=\u001b[39m data[:, \u001b[38;5;241m-\u001b[39m\u001b[38;5;241m1\u001b[39m]\n",
      "\u001b[0;31mNameError\u001b[0m: name 'get_angles' is not defined"
     ]
    }
   ],
   "source": [
    "X = data.iloc[:, 0:3]\n",
    "\n",
    "print(f\"First X sample (original)  : {X.iloc[0]}\")\n",
    "\n",
    "# pad the vectors to size 2^4=16 with constant values\n",
    "padding = np.ones((len(X), 4)) * 0.1\n",
    "X_pad = np.c_[X, padding]\n",
    "print(f\"First X sample (padded)    : {X_pad[0]}\")\n",
    "\n",
    "# normalize each input\n",
    "normalization = np.sqrt(np.sum(X_pad**2, -1))\n",
    "X_norm = (X_pad.T / normalization).T\n",
    "print(f\"First X sample (normalized): {X_norm[0]}\")\n",
    "\n",
    "# the angles for state preparation are the features\n",
    "features = np.array([get_angles(x) for x in X_norm], requires_grad=False)\n",
    "print(f\"First features sample      : {features[0]}\")\n",
    "\n",
    "Y = data[:, -1]"
   ]
  }
 ],
 "metadata": {
  "kernelspec": {
   "display_name": "Qiskit (stable)",
   "language": "python",
   "name": "qiskit-stable"
  },
  "language_info": {
   "codemirror_mode": {
    "name": "ipython",
    "version": 3
   },
   "file_extension": ".py",
   "mimetype": "text/x-python",
   "name": "python",
   "nbconvert_exporter": "python",
   "pygments_lexer": "ipython3",
   "version": "3.9.16"
  }
 },
 "nbformat": 4,
 "nbformat_minor": 2
}
