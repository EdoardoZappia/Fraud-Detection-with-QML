{
 "cells": [
  {
   "cell_type": "code",
   "execution_count": 1,
   "id": "a1db0849",
   "metadata": {},
   "outputs": [],
   "source": [
    "import torch\n",
    "from torch import Tensor, LongTensor, tensor\n",
    "from torch.nn import Linear, CrossEntropyLoss, MSELoss, L1Loss, ReLU, Module, NLLLoss, Sigmoid\n",
    "from torch.optim import LBFGS\n",
    "import torch.optim as optim\n",
    "from torch import cat, no_grad, manual_seed\n",
    "import torch.nn.functional as F\n",
    "\n",
    "import numpy as np\n",
    "import pandas as pd\n",
    "import matplotlib.pyplot as plt\n",
    "from sklearn.preprocessing import LabelEncoder, StandardScaler, MinMaxScaler\n",
    "from sklearn.decomposition import PCA\n",
    "import seaborn as sns\n",
    "from imblearn.under_sampling import RandomUnderSampler\n",
    "from sklearn.model_selection import train_test_split\n",
    "import time\n",
    "\n",
    "from qiskit.circuit import Parameter\n",
    "from qiskit import QuantumCircuit\n",
    "from qiskit_algorithms.utils import algorithm_globals\n",
    "from qiskit.quantum_info import SparsePauliOp\n",
    "\n",
    "from qiskit.circuit.library import PauliFeatureMap, ZFeatureMap, ZZFeatureMap, RealAmplitudes\n",
    "from qiskit_machine_learning.circuit.library import QNNCircuit\n",
    "from qiskit_machine_learning.neural_networks import EstimatorQNN, SamplerQNN\n",
    "from qiskit_machine_learning.connectors import TorchConnector "
   ]
  },
  {
   "cell_type": "markdown",
   "id": "e27e2e5d",
   "metadata": {},
   "source": [
    "## Importing the dataset"
   ]
  },
  {
   "cell_type": "code",
   "execution_count": 2,
   "id": "25e4b583",
   "metadata": {},
   "outputs": [
    {
     "name": "stdout",
     "output_type": "stream",
     "text": [
      "Dataset imported successfully.\n"
     ]
    }
   ],
   "source": [
    "file_path = \"../Fraud-Detection-with-QML/dataset/dataset.csv\"\n",
    "\n",
    "try:\n",
    "    df = pd.read_csv(file_path)\n",
    "    print(\"Dataset imported successfully.\")\n",
    "except FileNotFoundError:\n",
    "    print(\"File not found. Please check the file path.\")\n",
    "    exit()\n"
   ]
  },
  {
   "cell_type": "markdown",
   "id": "fee58846",
   "metadata": {},
   "source": [
    "## Data cleaning"
   ]
  },
  {
   "cell_type": "code",
   "execution_count": 3,
   "id": "634fbe4d",
   "metadata": {},
   "outputs": [],
   "source": [
    "df.drop(columns=['step'], inplace=True)\n",
    "df.drop(columns=['zipcodeOri'], inplace=True)\n",
    "df.drop(columns=['zipMerchant'], inplace=True)\n",
    "df.drop(columns=['customer'], inplace=True)\n",
    "df.drop(columns=['merchant'], inplace=True)"
   ]
  },
  {
   "cell_type": "code",
   "execution_count": 4,
   "id": "09630c7d",
   "metadata": {},
   "outputs": [],
   "source": [
    "encoder = LabelEncoder()\n",
    "\n",
    "encoded_age = encoder.fit_transform(df['age'])\n",
    "df['age'] = encoded_age\n",
    "encoded_gender = encoder.fit_transform(df['gender'])  #This could be a binary encoding (or not)\n",
    "df['gender'] = encoded_gender\n",
    "encoded_category = encoder.fit_transform(df['category']) #This could be a binary encoding\n",
    "df['category'] = encoded_category\n"
   ]
  },
  {
   "cell_type": "markdown",
   "id": "87fe777b",
   "metadata": {},
   "source": [
    "## Undersampling"
   ]
  },
  {
   "cell_type": "code",
   "execution_count": 5,
   "id": "64d29de5",
   "metadata": {},
   "outputs": [],
   "source": [
    "X = df.drop('fraud', axis=1)\n",
    "y = df['fraud']\n",
    "\n",
    "# undesapling the dataset to have only 100 fraud and 100 non-fraud samples\n",
    "sampling_strategy = {0: 100, 1: 100}\n",
    "\n",
    "# Undersample the majority class\n",
    "undersample = RandomUnderSampler(sampling_strategy=sampling_strategy, random_state=42)\n",
    "X_resampled, y_resampled = undersample.fit_resample(X, y)"
   ]
  },
  {
   "cell_type": "code",
   "execution_count": 6,
   "id": "43043471",
   "metadata": {},
   "outputs": [
    {
     "name": "stdout",
     "output_type": "stream",
     "text": [
      "200\n",
      "<class 'pandas.core.frame.DataFrame'>\n"
     ]
    }
   ],
   "source": [
    "print(X_resampled.shape[0])\n",
    "print(type(X_resampled))"
   ]
  },
  {
   "cell_type": "markdown",
   "id": "f5ed4710",
   "metadata": {},
   "source": [
    "# Datasets"
   ]
  },
  {
   "cell_type": "code",
   "execution_count": 7,
   "id": "017ba0ac",
   "metadata": {},
   "outputs": [
    {
     "name": "stdout",
     "output_type": "stream",
     "text": [
      "(140, 4) (60, 4)\n"
     ]
    }
   ],
   "source": [
    "#Train test split\n",
    "X_train, X_test, y_train, y_test = train_test_split(X_resampled, y_resampled, test_size=0.3, random_state=0)\n",
    "print(X_train.shape, X_test.shape)"
   ]
  },
  {
   "cell_type": "code",
   "execution_count": 8,
   "id": "4b08b6cf",
   "metadata": {},
   "outputs": [],
   "source": [
    "#Defining the \"Thin\" dataset\n",
    "X_Thin_train = MinMaxScaler().fit_transform(X_train)\n",
    "X_Thin_test = MinMaxScaler().fit_transform(X_test)"
   ]
  },
  {
   "cell_type": "code",
   "execution_count": 9,
   "id": "f1018109",
   "metadata": {},
   "outputs": [],
   "source": [
    "# Defining the \"Large\" dataset\n",
    "\n",
    "# X_Large_train\n",
    "cat0 = []\n",
    "cat1 = []\n",
    "cat2 = []\n",
    "cat3 = []\n",
    "\n",
    "category = list(X_train['category'])\n",
    "for i in range(X_train.shape[0]):\n",
    "    # Convert to binary and remove the '0b' prefix\n",
    "    binstr = bin(category[i])[2:]\n",
    "    while len(binstr)<4:\n",
    "        binstr = '0'+binstr\n",
    "    #creating the classes for the 0th, 1st, 2nd and 3rd bit of the binary encoding \n",
    "    cat0.append(binstr[3])\n",
    "    cat1.append(binstr[2])\n",
    "    cat2.append(binstr[1])\n",
    "    cat3.append(binstr[0])\n",
    "\n",
    "d = {'age': list(X_train['age']), 'gender': list(X_train['gender']),'cat3': cat3, 'cat2': cat2, 'cat1': cat1, 'cat0': cat0, 'amount': list(X_train['amount'])}\n",
    "\n",
    "X_Large_train = pd.DataFrame(data=d)\n",
    "X_Large_train = MinMaxScaler().fit_transform(X_Large_train)\n",
    "\n",
    "\n",
    "\n",
    "#X_Large_test\n",
    "cat0 = []\n",
    "cat1 = []\n",
    "cat2 = []\n",
    "cat3 = []\n",
    "\n",
    "category = list(X_test['category'])\n",
    "for i in range(X_test.shape[0]):\n",
    "    # Convert to binary and remove the '0b' prefix\n",
    "    binstr = bin(category[i])[2:]\n",
    "    while len(binstr)<4:\n",
    "        binstr = '0'+binstr\n",
    "    #creating the classes for the 0th, 1st, 2nd and 3rd bit of the binary encoding \n",
    "    cat0.append(binstr[3])\n",
    "    cat1.append(binstr[2])\n",
    "    cat2.append(binstr[1])\n",
    "    cat3.append(binstr[0])\n",
    "\n",
    "d = {'age': list(X_test['age']), 'gender': list(X_test['gender']),'cat3': cat3, 'cat2': cat2, 'cat1': cat1, 'cat0': cat0, 'amount': list(X_test['amount'])}\n",
    "\n",
    "X_Large_test = pd.DataFrame(data=d)\n",
    "X_Large_test = MinMaxScaler().fit_transform(X_Large_test)\n"
   ]
  },
  {
   "cell_type": "code",
   "execution_count": 10,
   "id": "f0caedad",
   "metadata": {},
   "outputs": [],
   "source": [
    "# Transforming the y dataframes in to ndarrays\n",
    "\n",
    "# y01 represent the arrays of values between 0 and 1 (used for the sampler and the hybrid)\n",
    "y01_train = y_train.to_numpy()\n",
    "y01_test = y_test.to_numpy()\n",
    "\n",
    "# these y are in the range (-1, 1) and are used for the estimator\n",
    "y_train = (y01_train * 2) - 1\n",
    "y_test = (y01_test * 2) - 1"
   ]
  },
  {
   "cell_type": "markdown",
   "id": "c073695e",
   "metadata": {},
   "source": [
    "# Feature maps"
   ]
  },
  {
   "cell_type": "code",
   "execution_count": 11,
   "id": "d01f55a3",
   "metadata": {},
   "outputs": [
    {
     "name": "stderr",
     "output_type": "stream",
     "text": [
      "C:\\Users\\Win10\\anaconda3\\lib\\site-packages\\qiskit\\visualization\\circuit\\matplotlib.py:266: FutureWarning: The default matplotlib drawer scheme will be changed to \"iqp\" in a following release. To silence this warning, specify the current default explicitly as style=\"clifford\", or the new default as style=\"iqp\".\n",
      "  self._style, def_font_ratio = load_style(self._style)\n"
     ]
    },
    {
     "data": {
      "image/png": "[encoded data removed]",
      "text/plain": [
       "<Figure size 2210.55x785.944 with 1 Axes>"
      ]
     },
     "execution_count": 11,
     "metadata": {},
     "output_type": "execute_result"
    }
   ],
   "source": [
    "ZZ = ZZFeatureMap(feature_dimension=4, reps=1)   \n",
    "ZZ.decompose().draw(output='mpl')"
   ]
  },
  {
   "cell_type": "code",
   "execution_count": 12,
   "id": "feb1b599",
   "metadata": {},
   "outputs": [
    {
     "data": {
      "image/png": "[encoded data removed]",
      "text/plain": [
       "<Figure size 287.496x367.889 with 1 Axes>"
      ]
     },
     "execution_count": 12,
     "metadata": {},
     "output_type": "execute_result"
    }
   ],
   "source": [
    "Z = ZFeatureMap(feature_dimension=4, reps=1)\n",
    "Z.decompose().draw(output='mpl')"
   ]
  },
  {
   "cell_type": "code",
   "execution_count": 13,
   "id": "3b03ec69",
   "metadata": {},
   "outputs": [
    {
     "data": {
      "image/png": "[encoded data removed]",
      "text/plain": [
       "<Figure size 2210.55x785.944 with 1 Axes>"
      ]
     },
     "execution_count": 13,
     "metadata": {},
     "output_type": "execute_result"
    }
   ],
   "source": [
    "P = PauliFeatureMap(feature_dimension=4, reps=1)#, paulis = ['Z', 'X', 'ZY'])   # feature_dimension = num_features\n",
    "P.decompose().draw(output='mpl')"
   ]
  },
  {
   "cell_type": "markdown",
   "id": "f1528ff6",
   "metadata": {},
   "source": [
    "# Quantum ML models "
   ]
  },
  {
   "cell_type": "markdown",
   "id": "c17aca5e",
   "metadata": {},
   "source": [
    "## Estimator QNN\n",
    "\n",
    "The EstimatorQNN is a neural network that takes in a parametrized quantum circuit with designated parameters for input data and/or weights, an optional observable(s) and outputs their expectation value(s)"
   ]
  },
  {
   "cell_type": "markdown",
   "id": "5f35ccce",
   "metadata": {},
   "source": [
    "## Sampler QNN\n",
    "\n",
    "The SamplerQNN is a network based on the samples resulting from measuring a quantum circuit. \n",
    "Differently from the estimator qnn does not require a custom observable.However, the SamplerQNN also allows us to specify an interpret function to post-process the samples.\n",
    "It's important to note that if a custom interpret function is defined, the output_shape cannot be inferred by the network, and needs to be provided explicitly."
   ]
  },
  {
   "cell_type": "markdown",
   "id": "05bf40ea",
   "metadata": {},
   "source": [
    "## Hybrid QNN\n",
    "\n",
    "The HybridQNN is a classical neural network in which some classical layer are replaced by qnn.\n",
    "The implementation in Qiskit uses the `TorchConnector` class. After defining our quantum neural network layer (in this case, a EstimatorQNN), we can embed it into a layer in our torch Module by initializing a torch connector as `TorchConnector(qnn)`.\n",
    "In order to have an adequate gradient backpropagation in hybrid models, we MUST set the initial parameter `input_gradients` to TRUE during the qnn initialization."
   ]
  },
  {
   "cell_type": "markdown",
   "id": "fa7b5789",
   "metadata": {},
   "source": [
    "### Testing the models"
   ]
  },
  {
   "cell_type": "code",
   "execution_count": 14,
   "id": "8153103a",
   "metadata": {},
   "outputs": [
    {
     "data": {
      "text/plain": [
       "<torch._C.Generator at 0x1daaabd53f0>"
      ]
     },
     "execution_count": 14,
     "metadata": {},
     "output_type": "execute_result"
    }
   ],
   "source": [
    "algorithm_globals.random_seed = 42 #Qiskit random seed\n",
    "manual_seed(42) #Torch random seed"
   ]
  },
  {
   "cell_type": "code",
   "execution_count": 15,
   "id": "fd3eee63",
   "metadata": {},
   "outputs": [
    {
     "name": "stdout",
     "output_type": "stream",
     "text": [
      "Time spent for Estimator QNN with feature map Z and dataset Thin : 383.93181443214417\n",
      "The accuracy is : 0.7666666666666667\n",
      "- - - - -\n",
      "Time spent for Sampler QNN with feature map Z and dataset Thin : 108.80613589286804\n",
      "The accuracy is : 0.75\n",
      "- - - - -\n",
      "Time spent for Hybrid QNN with feature map Z and dataset Thin : 54.8503999710083\n",
      "The accuracy is : 0.85\n",
      "- - - - -\n",
      "Time spent for Estimator QNN with feature map ZZ and dataset Thin : 691.2945590019226\n",
      "The accuracy is : 0.6\n",
      "- - - - -\n",
      "Time spent for Sampler QNN with feature map ZZ and dataset Thin : 179.95403575897217\n",
      "The accuracy is : 0.6166666666666667\n",
      "- - - - -\n",
      "Time spent for Hybrid QNN with feature map ZZ and dataset Thin : 103.6485641002655\n",
      "The accuracy is : 0.6\n",
      "- - - - -\n",
      "Time spent for Estimator QNN with feature map P and dataset Thin : 1024.741391658783\n",
      "The accuracy is : 0.5\n",
      "- - - - -\n",
      "Time spent for Sampler QNN with feature map P and dataset Thin : 247.60093784332275\n",
      "The accuracy is : 0.48333333333333334\n",
      "- - - - -\n",
      "Time spent for Hybrid QNN with feature map P and dataset Thin : 159.3301751613617\n",
      "The accuracy is : 0.8\n",
      "- - - - -\n",
      "Time spent for Estimator QNN with feature map Z and dataset Large : 1153.7282207012177\n",
      "The accuracy is : 0.85\n",
      "- - - - -\n",
      "Time spent for Sampler QNN with feature map Z and dataset Large : 99.37096500396729\n",
      "The accuracy is : 0.6166666666666667\n",
      "- - - - -\n",
      "Time spent for Hybrid QNN with feature map Z and dataset Large : 54.77226257324219\n",
      "The accuracy is : 0.95\n",
      "- - - - -\n",
      "Time spent for Estimator QNN with feature map ZZ and dataset Large : 3268.1521096229553\n",
      "The accuracy is : 0.36666666666666664\n",
      "- - - - -\n",
      "Time spent for Sampler QNN with feature map ZZ and dataset Large : 784.9025185108185\n",
      "The accuracy is : 0.36666666666666664\n",
      "- - - - -\n",
      "Time spent for Hybrid QNN with feature map ZZ and dataset Large : 104.01314210891724\n",
      "The accuracy is : 0.9666666666666667\n",
      "- - - - -\n",
      "Time spent for Estimator QNN with feature map P and dataset Large : 4947.994287014008\n",
      "The accuracy is : 0.2833333333333333\n",
      "- - - - -\n",
      "Time spent for Sampler QNN with feature map P and dataset Large : 1084.4362971782684\n",
      "The accuracy is : 0.5\n",
      "- - - - -\n",
      "Time spent for Hybrid QNN with feature map P and dataset Large : 159.8410518169403\n",
      "The accuracy is : 0.9166666666666666\n",
      "- - - - -\n"
     ]
    }
   ],
   "source": [
    "#Model creation, training and evaluation\n",
    "\n",
    "hybrid_dim = 3\n",
    "hidden_dim = 10\n",
    "epochs = 10  # Set number of epochs for hybrid model\n",
    "\n",
    "for dataset_name in (\"Thin\", \"Large\"):\n",
    "    for feature_map_name in (\"Z\", \"ZZ\", \"P\"):\n",
    "        for model_name in (\"Estimator\", \"Sampler\", \"Hybrid\"):\n",
    "            \n",
    "            acc = 0\n",
    "            \n",
    "            #Choosing the dataset format\n",
    "            if dataset_name == \"Thin\":\n",
    "                X_train = X_Thin_train\n",
    "                X_test = X_Thin_test\n",
    "            else:\n",
    "                X_train = X_Large_train\n",
    "                X_test = X_Large_test\n",
    "                \n",
    "            dims = X_train.shape[1]    # Dimension of the circuit\n",
    "                \n",
    "            #Chosing the feature map\n",
    "            if feature_map_name == \"Z\":\n",
    "                feature_map = ZFeatureMap(feature_dimension=dims, reps=1)\n",
    "            elif feature_map_name == \"ZZ\":\n",
    "                feature_map = ZZFeatureMap(feature_dimension=dims, reps=1) \n",
    "            else:\n",
    "                feature_map = PauliFeatureMap(feature_dimension=dims, reps=1, paulis = ['Z', 'X', 'ZY'])\n",
    "              \n",
    "            # Start timing\n",
    "            start = time.time()\n",
    "            \n",
    "            # Chosing the model between Estimator, Sampler and Hybrid\n",
    "            \n",
    "            if model_name == \"Estimator\":\n",
    "                \n",
    "                observable1 = SparsePauliOp.from_list([(\"Y\" * dims, 1)])  # observable of the estimator QNN\n",
    "                ansatz = RealAmplitudes(num_qubits=dims)\n",
    "                qc = QuantumCircuit(dims)\n",
    "                qc.compose(feature_map, inplace=True)\n",
    "                qc.compose(ansatz, inplace=True)\n",
    "                \n",
    "                # Building the circuit\n",
    "                Eqnn = EstimatorQNN(\n",
    "                    circuit=qc,\n",
    "                    observables=observable1,\n",
    "                    input_params=feature_map.parameters,\n",
    "                    weight_params=ansatz.parameters\n",
    "                )\n",
    "                \n",
    "                Eqnn.input_gradients = True  # Used for torch connector\n",
    "                initial_weights = 0.1 * (2 * algorithm_globals.random.random(Eqnn.num_weights) - 1)\n",
    "                \n",
    "                # Building the model\n",
    "                model = TorchConnector(Eqnn, initial_weights=initial_weights)\n",
    "                optimizer = LBFGS(model.parameters())\n",
    "                f_loss = MSELoss()\n",
    "                model.train() # Starting the train mode\n",
    "                X_ = tensor(X_train).float()\n",
    "                y_ = tensor(y_train).reshape(-1, 1).float()\n",
    "                \n",
    "                # Some optimization algorithms such as LBFGS need to\n",
    "                # reevaluate the function multiple times, so you have to\n",
    "                # pass in a closure that allows them to recompute your model.\n",
    "                # The closure should clear the gradients, compute the loss,\n",
    "                # and return it.\n",
    "                def closure():\n",
    "                    optimizer.zero_grad()  # Initialize/clear gradients\n",
    "                    loss = f_loss(model(X_), y_)  # Evaluate loss function\n",
    "                    loss.backward()  # Backward pass\n",
    "                    #print(loss.item())  # Print loss\n",
    "                    return loss\n",
    "                \n",
    "                # Training\n",
    "                optimizer.step(closure)\n",
    "                \n",
    "                # Evaluation\n",
    "                model.eval() # Starting the evaluation mode\n",
    "                acc = 0\n",
    "                for x, y_target in zip(X_test, y_test):\n",
    "                    output = (model(tensor(x))).detach().numpy()\n",
    "                    res = np.sign(output[0])\n",
    "                    if res == y_target:\n",
    "                        acc += 1\n",
    "                acc = acc/len(y_test)\n",
    "                \n",
    "                \n",
    "            elif model_name == \"Sampler\":\n",
    "                \n",
    "                ansatz = RealAmplitudes(num_qubits=dims, entanglement=\"linear\", reps=1)\n",
    "                qc = QuantumCircuit(dims)\n",
    "                qc.compose(feature_map, inplace=True)\n",
    "                qc.compose(ansatz, inplace=True)\n",
    "                \n",
    "                # If we define a custom interpret function ( in the example: parity)\n",
    "                # we must remember to explicitly provide the desired output shape\n",
    "                # The function \"parity\" transforms x into binary and sums the 1s\n",
    "                # and returns modulo 2 of the sum\n",
    "                parity = lambda x: \"{:b}\".format(x).count(\"1\") % 2 \n",
    "                output_shape = 2  # parity = 0, 1\n",
    "                \n",
    "                # Building the circuit\n",
    "                Sqnn = SamplerQNN(\n",
    "                    circuit=qc,\n",
    "                    input_params=feature_map.parameters,\n",
    "                    weight_params=ansatz.parameters,\n",
    "                    interpret=parity,\n",
    "                    output_shape=output_shape,\n",
    "                )\n",
    "                initial_weights = 0.1 * (2 * algorithm_globals.random.random(Sqnn.num_weights) - 1)\n",
    "                \n",
    "                # Building the model\n",
    "                model = TorchConnector(Sqnn, initial_weights)\n",
    "                optimizer = LBFGS(model.parameters())\n",
    "                f_loss = CrossEntropyLoss()  # Our output will be in the [0,1] range so we can use the crossentropy\n",
    "                model.train()  # starting the train mode\n",
    "                X_ = tensor(X_train)\n",
    "                y01_ = tensor(y01_train).reshape(-1).long() #This should be in the range (0,1) an should be a 1 dim tensor\n",
    "                def closure():\n",
    "                    optimizer.zero_grad(set_to_none=True)  # Initialize gradient\n",
    "                    loss = f_loss(model(X_), y01_)  # Calculate loss\n",
    "                    loss.backward()  # Backward pass\n",
    "                    return loss\n",
    "                \n",
    "                # Training\n",
    "                optimizer.step(closure)\n",
    "                \n",
    "                # Evaluation\n",
    "                model.eval() # Starting the evaluation mode\n",
    "                acc = 0\n",
    "                for x, y_target in zip(X_test, y01_test):\n",
    "                    output = (model(tensor(x))).detach().numpy()\n",
    "                    res = list(output).index(max(output))\n",
    "                    if res == y_target:\n",
    "                        acc += 1\n",
    "                acc = acc/len(y01_test)\n",
    "            \n",
    "            elif model_name == \"Hybrid\":\n",
    "                \n",
    "                # Building a new feature map since the dimension of the quantum\n",
    "                # layer is different from \"dims\"\n",
    "                if feature_map_name == \"Z\":\n",
    "                    feature_map = ZFeatureMap(feature_dimension=hybrid_dim, reps=1)\n",
    "                elif feature_map_name == \"ZZ\":\n",
    "                    feature_map = ZZFeatureMap(feature_dimension=hybrid_dim, reps=1) \n",
    "                else:\n",
    "                    feature_map = PauliFeatureMap(feature_dimension=hybrid_dim, reps=1, paulis = ['Z', 'X', 'ZY'])\n",
    "                    \n",
    "                ansatz = RealAmplitudes(hybrid_dim, reps=1)\n",
    "                qc = QuantumCircuit(hybrid_dim)\n",
    "                qc.compose(feature_map, inplace=True)\n",
    "                qc.compose(ansatz, inplace=True)\n",
    "                \n",
    "                # Building circuit. It's gonna be an estimator QNN\n",
    "                Hqnn = EstimatorQNN(\n",
    "                    circuit=qc,\n",
    "                    input_params=feature_map.parameters,\n",
    "                    weight_params=ansatz.parameters,\n",
    "                    input_gradients=True,\n",
    "                )\n",
    "                \n",
    "                # Defining the hybrid QNN\n",
    "                class Net(Module):\n",
    "                    def __init__(self, Hqnn):\n",
    "                        super().__init__()\n",
    "                        self.fc1 = Linear(dims, hidden_dim)\n",
    "                        self.fc2 = Linear(hidden_dim, hybrid_dim)  # input to QNN\n",
    "                        self.Hqnn = TorchConnector(Hqnn)  # Apply torch connector\n",
    "                        self.fc3 = Linear(1, 1)  # 1-dimensional output from QNN\n",
    "                        self.sig = Sigmoid()  # Sigmoid function\n",
    "\n",
    "                    def forward(self, x):\n",
    "                        x = F.relu(self.fc1(x))\n",
    "                        x = self.fc2(x)\n",
    "                        x = self.Hqnn(x)  # apply QNN\n",
    "                        x = self.fc3(x)\n",
    "                        x = self.sig(x)\n",
    "                        return cat((x, 1 - x), -1)\n",
    "                \n",
    "                # Building the model\n",
    "                model = Net(Hqnn)\n",
    "                optimizer = optim.Adam(model.parameters(), lr=0.001)\n",
    "                loss_func = NLLLoss()\n",
    "                model.train()  # Set the model to training mode\n",
    "                \n",
    "                # Training the model (here we need do repeat the optimization step on different epochs)\n",
    "                for epoch in range(epochs):\n",
    "                    for x_, y_ in zip(X_train, y01_train):\n",
    "                        optimizer.zero_grad(set_to_none=True)  # Initialize gradient\n",
    "                        output = model(tensor(x_).float())  # Forward pass\n",
    "                        loss = loss_func(output, tensor(y_))  # Calculate loss\n",
    "                        loss.backward()  # Backward pass\n",
    "                        optimizer.step()  # Optimize weights\n",
    "                        \n",
    "                # Evaluation\n",
    "                model.eval()  # set model to evaluation mode\n",
    "                with no_grad():\n",
    "                    acc = 0\n",
    "                    for x, y_target in zip(X_test, y01_test):\n",
    "                        output = (model(tensor(x).float())).detach().numpy()\n",
    "                        res = list(output).index(max(output))\n",
    "                        if res == y_target:\n",
    "                            acc += 1\n",
    "                    acc = acc/len(y01_test)\n",
    "            \n",
    "            \n",
    "            #End timing\n",
    "            end = time.time()\n",
    "            elapsed = end-start\n",
    "            \n",
    "            \n",
    "            print(f\"Time spent for {model_name} QNN with feature map {feature_map_name} and dataset {dataset_name} : {elapsed}\")\n",
    "            print(f\"The accuracy is : {acc}\")\n",
    "            print(\"- - - - -\")\n",
    "        \n",
    "            "
   ]
  },
  {
   "cell_type": "markdown",
   "id": "6c68e96f",
   "metadata": {},
   "source": [
    "### We can try to run the Hybrid QNN again to test the results on more iterations and more data, we can also see that the best dataset format for the hybrid was the \"Large\" one, so we continue using that"
   ]
  },
  {
   "cell_type": "code",
   "execution_count": 17,
   "id": "77e02e89",
   "metadata": {},
   "outputs": [
    {
     "name": "stdout",
     "output_type": "stream",
     "text": [
      "(1400, 4) (600, 4)\n"
     ]
    }
   ],
   "source": [
    "# Recreating the dataset\n",
    "X = df.drop('fraud', axis=1)\n",
    "y = df['fraud']\n",
    "\n",
    "# undesapling the dataset to have only 100 fraud and 100 non-fraud samples\n",
    "sampling_strategy = {0: 1000, 1: 1000}\n",
    "\n",
    "# Undersample the majority class\n",
    "undersample = RandomUnderSampler(sampling_strategy=sampling_strategy, random_state=42)\n",
    "X_resampled, y_resampled = undersample.fit_resample(X, y)\n",
    "\n",
    "#Train test split\n",
    "X_train, X_test, y_train, y_test = train_test_split(X_resampled, y_resampled, test_size=0.3, random_state=0)\n",
    "print(X_train.shape, X_test.shape)"
   ]
  },
  {
   "cell_type": "code",
   "execution_count": 18,
   "id": "3b44ba67",
   "metadata": {},
   "outputs": [],
   "source": [
    "# X_Large_train\n",
    "cat0 = []\n",
    "cat1 = []\n",
    "cat2 = []\n",
    "cat3 = []\n",
    "\n",
    "category = list(X_train['category'])\n",
    "for i in range(X_train.shape[0]):\n",
    "    # Convert to binary and remove the '0b' prefix\n",
    "    binstr = bin(category[i])[2:]\n",
    "    while len(binstr)<4:\n",
    "        binstr = '0'+binstr\n",
    "    #creating the classes for the 0th, 1st, 2nd and 3rd bit of the binary encoding \n",
    "    cat0.append(binstr[3])\n",
    "    cat1.append(binstr[2])\n",
    "    cat2.append(binstr[1])\n",
    "    cat3.append(binstr[0])\n",
    "\n",
    "d = {'age': list(X_train['age']), 'gender': list(X_train['gender']),'cat3': cat3, 'cat2': cat2, 'cat1': cat1, 'cat0': cat0, 'amount': list(X_train['amount'])}\n",
    "\n",
    "X_Large_train = pd.DataFrame(data=d)\n",
    "X_Large_train = MinMaxScaler().fit_transform(X_Large_train)\n",
    "\n",
    "\n",
    "\n",
    "#X_Large_test\n",
    "cat0 = []\n",
    "cat1 = []\n",
    "cat2 = []\n",
    "cat3 = []\n",
    "\n",
    "category = list(X_test['category'])\n",
    "for i in range(X_test.shape[0]):\n",
    "    # Convert to binary and remove the '0b' prefix\n",
    "    binstr = bin(category[i])[2:]\n",
    "    while len(binstr)<4:\n",
    "        binstr = '0'+binstr\n",
    "    #creating the classes for the 0th, 1st, 2nd and 3rd bit of the binary encoding \n",
    "    cat0.append(binstr[3])\n",
    "    cat1.append(binstr[2])\n",
    "    cat2.append(binstr[1])\n",
    "    cat3.append(binstr[0])\n",
    "\n",
    "d = {'age': list(X_test['age']), 'gender': list(X_test['gender']),'cat3': cat3, 'cat2': cat2, 'cat1': cat1, 'cat0': cat0, 'amount': list(X_test['amount'])}\n",
    "\n",
    "X_Large_test = pd.DataFrame(data=d)\n",
    "X_Large_test = MinMaxScaler().fit_transform(X_Large_test)"
   ]
  },
  {
   "cell_type": "code",
   "execution_count": 19,
   "id": "6d788280",
   "metadata": {},
   "outputs": [],
   "source": [
    "# Transforming the y dataframes in to ndarrays\n",
    "\n",
    "# y01 represent the arrays of values between 0 and 1 (used for the sampler and the hybrid)\n",
    "y01_train = y_train.to_numpy()\n",
    "y01_test = y_test.to_numpy()\n",
    "\n",
    "# these y are in the range (-1, 1) and are used for the estimator\n",
    "y_train = (y01_train * 2) - 1\n",
    "y_test = (y01_test * 2) - 1"
   ]
  },
  {
   "cell_type": "code",
   "execution_count": 26,
   "id": "fa17280e",
   "metadata": {},
   "outputs": [
    {
     "name": "stdout",
     "output_type": "stream",
     "text": [
      "- - - - -\n",
      "Time spent for Hybrid QNN with feature map Z and dataset Large : 2040.5503914356232\n",
      "The accuracy is : 0.9633333333333334\n",
      "- - - - -\n",
      "- - - - -\n",
      "Time spent for Hybrid QNN with feature map ZZ and dataset Large : 4192.692080497742\n",
      "The accuracy is : 0.9633333333333334\n",
      "- - - - -\n",
      "- - - - -\n",
      "Time spent for Hybrid QNN with feature map P and dataset Large : 6661.815709114075\n",
      "The accuracy is : 0.9633333333333334\n",
      "- - - - -\n"
     ]
    },
    {
     "data": {
      "image/png": "[encoded data removed]",
      "text/plain": [
       "<Figure size 640x480 with 1 Axes>"
      ]
     },
     "metadata": {},
     "output_type": "display_data"
    }
   ],
   "source": [
    "hybrid_dim = 4\n",
    "hidden_dim = 32\n",
    "epochs = 20\n",
    "dims = 7\n",
    "\n",
    "# The dataset will be the large one\n",
    "X_train = X_Large_train\n",
    "X_test = X_Large_test\n",
    "\n",
    "# Defining the hybrid QNN\n",
    "class Net(Module):\n",
    "    def __init__(self, Hqnn):\n",
    "        super().__init__()\n",
    "        self.fc1 = Linear(dims, hidden_dim)\n",
    "        self.fc2 = Linear(hidden_dim, hybrid_dim)  # input to QNN\n",
    "        self.Hqnn = TorchConnector(Hqnn)  # Apply torch connector\n",
    "        self.fc3 = Linear(1, 1)  # 1-dimensional output from QNN\n",
    "        self.sig = Sigmoid()  # Sigmoid function\n",
    "\n",
    "    def forward(self, x):\n",
    "        x = F.relu(self.fc1(x))\n",
    "        x = self.fc2(x)\n",
    "        x = self.Hqnn(x)  # apply QNN\n",
    "        x = self.fc3(x)\n",
    "        x = self.sig(x)\n",
    "        return cat((x, 1 - x), -1)\n",
    "    \n",
    "Loss_Z = []\n",
    "Loss_ZZ = []\n",
    "Loss_P = []\n",
    "\n",
    "# Chosing the feature map\n",
    "for feature_map_name in (\"Z\", \"ZZ\", \"P\"):\n",
    "    \n",
    "    acc = 0\n",
    "    \n",
    "    # Start timing\n",
    "    start = time.time()\n",
    "    \n",
    "    if feature_map_name == \"Z\":\n",
    "        feature_map = ZFeatureMap(feature_dimension=hybrid_dim, reps=1)\n",
    "    elif feature_map_name == \"ZZ\":\n",
    "        feature_map = ZZFeatureMap(feature_dimension=hybrid_dim, reps=1) \n",
    "    else:\n",
    "        feature_map = PauliFeatureMap(feature_dimension=hybrid_dim, reps=1, paulis = ['Z', 'X', 'ZY'])\n",
    "\n",
    "    ansatz = RealAmplitudes(hybrid_dim, reps=1)\n",
    "    qc = QuantumCircuit(hybrid_dim)\n",
    "    qc.compose(feature_map, inplace=True)\n",
    "    qc.compose(ansatz, inplace=True)\n",
    "\n",
    "    # Building circuit. It's gonna be an estimator QNN\n",
    "    Hqnn = EstimatorQNN(\n",
    "        circuit=qc,\n",
    "        input_params=feature_map.parameters,\n",
    "        weight_params=ansatz.parameters,\n",
    "        input_gradients=True,\n",
    "    )\n",
    "\n",
    "    # Building the model\n",
    "    model = Net(Hqnn)\n",
    "    optimizer = optim.Adam(model.parameters(), lr=0.001)\n",
    "    loss_func = NLLLoss()\n",
    "    model.train()  # Set the model to training mode\n",
    "\n",
    "    # Training the model and saving the loss\n",
    "    for epoch in range(epochs):\n",
    "        total_loss = 0\n",
    "        for x_, y_ in zip(X_train, y01_train):\n",
    "            optimizer.zero_grad(set_to_none=True)  # Initialize gradient\n",
    "            output = model(tensor(x_).float())  # Forward pass\n",
    "            loss = loss_func(output, tensor(y_))  # Calculate loss\n",
    "            loss.backward()  # Backward pass\n",
    "            optimizer.step()  # Optimize weights\n",
    "            total_loss += loss.item()  # Store loss\n",
    "        \n",
    "        total_loss /= len(X_train)\n",
    "        \n",
    "        if feature_map_name == \"Z\":\n",
    "            Loss_Z.append(total_loss)\n",
    "        elif feature_map_name == \"ZZ\":\n",
    "            Loss_ZZ.append(total_loss)\n",
    "        else:\n",
    "            Loss_P.append(total_loss)\n",
    "\n",
    "        \n",
    "    # Evaluation\n",
    "    model.eval()  # set model to evaluation mode\n",
    "    with no_grad():\n",
    "        acc = 0\n",
    "        for x, y_target in zip(X_test, y01_test):\n",
    "            output = (model(tensor(x).float())).detach().numpy()\n",
    "            res = list(output).index(max(output))\n",
    "            if res == y_target:\n",
    "                acc += 1\n",
    "        acc = acc/len(y01_test)        \n",
    "    \n",
    "    #End timing\n",
    "    end = time.time()\n",
    "    elapsed = end-start\n",
    "\n",
    "    print(\"- - - - -\")\n",
    "    print(f\"Time spent for Hybrid QNN with feature map {feature_map_name} and dataset Large : {elapsed}\")\n",
    "    print(f\"The accuracy is : {acc}\")\n",
    "    print(\"- - - - -\")\n",
    "    \n",
    "plt.xlabel(\"Iterations\")\n",
    "plt.ylabel(\"Loss function\")\n",
    "plt.plot(range(len(Loss_Z)), Loss_Z, label='Z')\n",
    "plt.plot(range(len(Loss_ZZ)), Loss_ZZ, label='ZZ')\n",
    "plt.plot(range(len(Loss_P)), Loss_P, label='P')\n",
    "plt.legend()\n",
    "plt.show()\n"
   ]
  },
  {
   "cell_type": "code",
   "execution_count": null,
   "id": "de24fce3",
   "metadata": {},
   "outputs": [],
   "source": []
  }
 ],
 "metadata": {
  "kernelspec": {
   "display_name": "Python 3 (ipykernel)",
   "language": "python",
   "name": "python3"
  },
  "language_info": {
   "codemirror_mode": {
    "name": "ipython",
    "version": 3
   },
   "file_extension": ".py",
   "mimetype": "text/x-python",
   "name": "python",
   "nbconvert_exporter": "python",
   "pygments_lexer": "ipython3",
   "version": "3.9.13"
  }
 },
 "nbformat": 4,
 "nbformat_minor": 5
}
